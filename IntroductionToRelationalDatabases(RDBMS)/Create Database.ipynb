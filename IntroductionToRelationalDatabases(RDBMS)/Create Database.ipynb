{
 "cells": [
  {
   "cell_type": "markdown",
   "metadata": {},
   "source": [
    "# Create Database"
   ]
  },
  {
   "cell_type": "code",
   "execution_count": null,
   "metadata": {},
   "outputs": [],
   "source": [
    "import pandas as pd\n",
    "import sqlite3\n",
    "\n",
    "%load_ext sql"
   ]
  },
  {
   "cell_type": "code",
   "execution_count": 3,
   "metadata": {},
   "outputs": [],
   "source": [
    "con = sqlite3.connect('data/Database.db')\n",
    "cur = con.cursor()"
   ]
  },
  {
   "cell_type": "code",
   "execution_count": 4,
   "metadata": {},
   "outputs": [],
   "source": [
    "%sql sqlite:///data/Database.db"
   ]
  },
  {
   "cell_type": "markdown",
   "metadata": {},
   "source": [
    "# BookShop"
   ]
  },
  {
   "cell_type": "markdown",
   "metadata": {},
   "source": [
    "Create the table"
   ]
  },
  {
   "cell_type": "code",
   "execution_count": 5,
   "metadata": {},
   "outputs": [
    {
     "data": {
      "text/plain": [
       "<sqlite3.Cursor at 0x137909e2e30>"
      ]
     },
     "execution_count": 5,
     "metadata": {},
     "output_type": "execute_result"
    }
   ],
   "source": [
    "query = '''\n",
    "            CREATE TABLE BookShop ( BOOK_ID VARCHAR(4) NOT NULL, \n",
    "                                    TITLE VARCHAR(100) NOT NULL, \n",
    "                                    AUTHOR_NAME VARCHAR(30) NOT NULL, \n",
    "                                    AUTHOR_BIO VARCHAR(250),\n",
    "                                    AUTHOR_ID INTEGER NOT NULL, \n",
    "                                    PUBLICATION_DATE DATE NOT NULL, \n",
    "                                    PRICE_USD DECIMAL(6,2) CHECK(Price_USD>0) NOT NULL);\n",
    "        '''\n",
    "cur.execute(query)"
   ]
  },
  {
   "cell_type": "markdown",
   "metadata": {},
   "source": [
    "Insert sample data into the table"
   ]
  },
  {
   "cell_type": "code",
   "execution_count": 6,
   "metadata": {},
   "outputs": [
    {
     "data": {
      "text/plain": [
       "<sqlite3.Cursor at 0x137909e2e30>"
      ]
     },
     "execution_count": 6,
     "metadata": {},
     "output_type": "execute_result"
    }
   ],
   "source": [
    "query = '''\n",
    "            INSERT INTO BookShop \n",
    "            VALUES  ('B101', 'Introduction to Algorithms', 'Thomas H. Cormen', 'Thomas H. Cormen is the co-author of Introduction to Algorithms, along with Charles Leiserson, Ron Rivest, and Cliff Stein. He is a Full Professor of computer science at Dartmouth College and currently Chair of the Dartmouth College Writing Program.', 123 , '2001-09-01', 125),\n",
    "                    ('B201', 'Structure and Interpretation of Computer Programs', 'Harold Abelson', 'Harold Abelson, Ph.D., is Class of 1922 Professor of Computer Science and Engineering in the Department of Electrical Engineering and Computer Science at MIT and a fellow of the IEEE.', 456, '1996-07-25', 65.5),\n",
    "                    ('B301', 'Deep Learning', 'Ian Goodfellow', 'Ian J. Goodfellow is a researcher working in machine learning, currently employed at Apple Inc. as its director of machine learning in the Special Projects Group. He was previously employed as a research scientist at Google Brain.', 369, '2016-11-01', 82.7),\n",
    "                    ('B401', 'Algorithms Unlocked', 'Thomas H. Cormen', 'Thomas H. Cormen is the co-author of Introduction to Algorithms, along with Charles Leiserson, Ron Rivest, and Cliff Stein. He is a Full Professor of computer science at Dartmouth College and currently Chair of the Dartmouth College Writing Program.', 123, '2013-05-15', 36.5),\n",
    "                    ('B501', 'Machine Learning: A Probabilistic Perspective', 'Kevin P. Murphy', '', 157, '2012-08-24', 46);\n",
    "        '''\n",
    "cur.execute(query)"
   ]
  },
  {
   "cell_type": "code",
   "execution_count": 7,
   "metadata": {},
   "outputs": [
    {
     "data": {
      "text/html": [
       "<div>\n",
       "<style scoped>\n",
       "    .dataframe tbody tr th:only-of-type {\n",
       "        vertical-align: middle;\n",
       "    }\n",
       "\n",
       "    .dataframe tbody tr th {\n",
       "        vertical-align: top;\n",
       "    }\n",
       "\n",
       "    .dataframe thead th {\n",
       "        text-align: right;\n",
       "    }\n",
       "</style>\n",
       "<table border=\"1\" class=\"dataframe\">\n",
       "  <thead>\n",
       "    <tr style=\"text-align: right;\">\n",
       "      <th></th>\n",
       "      <th>BOOK_ID</th>\n",
       "      <th>TITLE</th>\n",
       "      <th>AUTHOR_NAME</th>\n",
       "      <th>AUTHOR_BIO</th>\n",
       "      <th>AUTHOR_ID</th>\n",
       "      <th>PUBLICATION_DATE</th>\n",
       "      <th>PRICE_USD</th>\n",
       "    </tr>\n",
       "  </thead>\n",
       "  <tbody>\n",
       "    <tr>\n",
       "      <th>0</th>\n",
       "      <td>B101</td>\n",
       "      <td>Introduction to Algorithms</td>\n",
       "      <td>Thomas H. Cormen</td>\n",
       "      <td>Thomas H. Cormen is the co-author of Introduct...</td>\n",
       "      <td>123</td>\n",
       "      <td>2001-09-01</td>\n",
       "      <td>125.0</td>\n",
       "    </tr>\n",
       "    <tr>\n",
       "      <th>1</th>\n",
       "      <td>B201</td>\n",
       "      <td>Structure and Interpretation of Computer Programs</td>\n",
       "      <td>Harold Abelson</td>\n",
       "      <td>Harold Abelson, Ph.D., is Class of 1922 Profes...</td>\n",
       "      <td>456</td>\n",
       "      <td>1996-07-25</td>\n",
       "      <td>65.5</td>\n",
       "    </tr>\n",
       "    <tr>\n",
       "      <th>2</th>\n",
       "      <td>B301</td>\n",
       "      <td>Deep Learning</td>\n",
       "      <td>Ian Goodfellow</td>\n",
       "      <td>Ian J. Goodfellow is a researcher working in m...</td>\n",
       "      <td>369</td>\n",
       "      <td>2016-11-01</td>\n",
       "      <td>82.7</td>\n",
       "    </tr>\n",
       "    <tr>\n",
       "      <th>3</th>\n",
       "      <td>B401</td>\n",
       "      <td>Algorithms Unlocked</td>\n",
       "      <td>Thomas H. Cormen</td>\n",
       "      <td>Thomas H. Cormen is the co-author of Introduct...</td>\n",
       "      <td>123</td>\n",
       "      <td>2013-05-15</td>\n",
       "      <td>36.5</td>\n",
       "    </tr>\n",
       "    <tr>\n",
       "      <th>4</th>\n",
       "      <td>B501</td>\n",
       "      <td>Machine Learning: A Probabilistic Perspective</td>\n",
       "      <td>Kevin P. Murphy</td>\n",
       "      <td></td>\n",
       "      <td>157</td>\n",
       "      <td>2012-08-24</td>\n",
       "      <td>46.0</td>\n",
       "    </tr>\n",
       "  </tbody>\n",
       "</table>\n",
       "</div>"
      ],
      "text/plain": [
       "  BOOK_ID                                              TITLE  \\\n",
       "0    B101                         Introduction to Algorithms   \n",
       "1    B201  Structure and Interpretation of Computer Programs   \n",
       "2    B301                                      Deep Learning   \n",
       "3    B401                                Algorithms Unlocked   \n",
       "4    B501      Machine Learning: A Probabilistic Perspective   \n",
       "\n",
       "        AUTHOR_NAME                                         AUTHOR_BIO  \\\n",
       "0  Thomas H. Cormen  Thomas H. Cormen is the co-author of Introduct...   \n",
       "1    Harold Abelson  Harold Abelson, Ph.D., is Class of 1922 Profes...   \n",
       "2    Ian Goodfellow  Ian J. Goodfellow is a researcher working in m...   \n",
       "3  Thomas H. Cormen  Thomas H. Cormen is the co-author of Introduct...   \n",
       "4   Kevin P. Murphy                                                      \n",
       "\n",
       "   AUTHOR_ID PUBLICATION_DATE  PRICE_USD  \n",
       "0        123       2001-09-01      125.0  \n",
       "1        456       1996-07-25       65.5  \n",
       "2        369       2016-11-01       82.7  \n",
       "3        123       2013-05-15       36.5  \n",
       "4        157       2012-08-24       46.0  "
      ]
     },
     "execution_count": 7,
     "metadata": {},
     "output_type": "execute_result"
    }
   ],
   "source": [
    "query = '''\n",
    "            SELECT * \n",
    "            FROM BookShop;\n",
    "        '''\n",
    "df = pd.read_sql_query(query, con)\n",
    "df"
   ]
  },
  {
   "cell_type": "code",
   "execution_count": 8,
   "metadata": {},
   "outputs": [],
   "source": [
    "con.commit()"
   ]
  },
  {
   "cell_type": "code",
   "execution_count": 9,
   "metadata": {},
   "outputs": [],
   "source": [
    "con.close()"
   ]
  }
 ],
 "metadata": {
  "kernelspec": {
   "display_name": "Python 3.9.13 ('base')",
   "language": "python",
   "name": "python3"
  },
  "language_info": {
   "codemirror_mode": {
    "name": "ipython",
    "version": 3
   },
   "file_extension": ".py",
   "mimetype": "text/x-python",
   "name": "python",
   "nbconvert_exporter": "python",
   "pygments_lexer": "ipython3",
   "version": "3.9.13"
  },
  "orig_nbformat": 4,
  "vscode": {
   "interpreter": {
    "hash": "3cfd106f785ae1e288da74ae733f9b47f8a2699db986927140be0bc196406f4c"
   }
  }
 },
 "nbformat": 4,
 "nbformat_minor": 2
}
