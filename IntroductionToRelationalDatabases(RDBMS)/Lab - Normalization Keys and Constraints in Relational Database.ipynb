{
 "cells": [
  {
   "cell_type": "markdown",
   "metadata": {},
   "source": [
    "![](https://cf-courses-data.s3.us.cloud-object-storage.appdomain.cloud/IBM-DB0110EN-SkillsNetwork/labs/Lab%20-%20Normalization%20-%20Keys%20-%20Constraints%20in%20Relational%20Database/images/IDSNlogo.png)"
   ]
  },
  {
   "cell_type": "markdown",
   "metadata": {},
   "source": [
    "# Hands-on Lab: Normalization, Keys and Constraints in Relational Database"
   ]
  },
  {
   "cell_type": "markdown",
   "metadata": {},
   "source": [
    "**Estimated time needed**: 25 minutes\n",
    "\n",
    "In this lab, you will learn about normalization, keys, and constraints in IBM Db2 on Cloud using SQL. First, you will learn how to minimize data redundancy and inconsistency in a database by normalizing tables. Next, you will learn how to use keys to uniquely identify a record in a table, to establish a relationship between tables, and to identify the relation between them. Lastly, you will learn about different kinds of relational model constraints that help to maintain data integrity in a relational data model."
   ]
  },
  {
   "cell_type": "markdown",
   "metadata": {},
   "source": [
    "## Software Used in this Lab"
   ]
  },
  {
   "cell_type": "markdown",
   "metadata": {},
   "source": [
    "In this lab, you will use an [IBM Db2 Database](https://www.ibm.com/products/db2-database?utm_medium=Exinfluencer&utm_source=Exinfluencer&utm_content=000026UJ&utm_term=10006555&utm_id=NA-SkillsNetwork-Channel-SkillsNetworkCoursesIBMDB0110ENSkillsNetwork24601058-2022-01-01). Db2 is a relational database management system (RDBMS) from IBM, designed to efficiently store, analyze, and retrieve data.\n",
    "\n",
    "![](https://cf-courses-data.s3.us.cloud-object-storage.appdomain.cloud/IBM-DB0110EN-SkillsNetwork/labs/Lab%20-%20Normalization%20-%20Keys%20-%20Constraints%20in%20Relational%20Database/images/ibmdb2.png)"
   ]
  },
  {
   "cell_type": "markdown",
   "metadata": {},
   "source": [
    "## Dataset Used in this Lab"
   ]
  },
  {
   "cell_type": "markdown",
   "metadata": {},
   "source": [
    "In this lab, you will use a **BookShop** dataset."
   ]
  },
  {
   "cell_type": "markdown",
   "metadata": {},
   "source": [
    "## Objectives"
   ]
  },
  {
   "cell_type": "markdown",
   "metadata": {},
   "source": [
    "After completing this lab, you will be able to:\n",
    "\n",
    "- Minimize data redundancy and inconsistency in a database by using normalization.\n",
    "- Use keys to uniquely identify a record in a table, establish a relationship between tables, and identify the relation between them.\n",
    "- Maintain data integrity in a relational data model using constraints."
   ]
  },
  {
   "cell_type": "markdown",
   "metadata": {},
   "source": [
    "## Instructions"
   ]
  },
  {
   "cell_type": "markdown",
   "metadata": {},
   "source": [
    "When you approach the exercises (specially from Exercise 1 Task B) in this lab, follow the instructions to run the queries on Db2:\n",
    "\n",
    "- Go to the [Resource List](https://cloud.ibm.com/resources?utm_medium=Exinfluencer&utm_source=Exinfluencer&utm_content=000026UJ&utm_term=10006555&utm_id=NA-SkillsNetwork-Channel-SkillsNetworkCoursesIBMDB0110ENSkillsNetwork24601058-2022-01-01) of IBM Cloud by logging in where you can find the Db2 service instance that you created in a previous lab under **Services** section. Click on the **Db2-xx service**. Next, open the Db2 Console by clicking on **Open Console** button. Click on the 3-bar menu icon in the top left corner and go to the **Run SQL** page. The Run SQL tool enables you to run SQL statements."
   ]
  },
  {
   "cell_type": "markdown",
   "metadata": {},
   "source": [
    "# Exercise 1: Normalization"
   ]
  },
  {
   "cell_type": "markdown",
   "metadata": {},
   "source": [
    "In this exercise, you will learn about first normal form (1NF) and implement second normal form (2NF)."
   ]
  },
  {
   "cell_type": "markdown",
   "metadata": {},
   "source": [
    "## Task A: First normal form (1NF)"
   ]
  },
  {
   "cell_type": "markdown",
   "metadata": {},
   "source": [
    "In this task of normalization, you will be working with the **BookShop** table. The following image shows the **BookShop** table:\n",
    "\n",
    "![](https://cf-courses-data.s3.us.cloud-object-storage.appdomain.cloud/IBM-DB0110EN-SkillsNetwork/labs/Lab%20-%20Normalization%20-%20Keys%20-%20Constraints%20in%20Relational%20Database/images/BookShop_table_Not_1NF.png)\n",
    "\n",
    "You will answer some questions to determine if the table above is in 1NF."
   ]
  },
  {
   "cell_type": "markdown",
   "metadata": {},
   "source": [
    "1. Does the above table have unique rows?\n",
    "\n",
    "<details>\n",
    "\t<summary>Hint</summary>\n",
    "\n",
    "Check if you can uniquely identify each row.\n",
    "\n",
    "</details>\n",
    "\n",
    "<details>\n",
    "\t<summary>Answer</summary>\n",
    "\n",
    "Yes. Each row can be uniquely identified.\n",
    "\n",
    "</details>"
   ]
  },
  {
   "cell_type": "markdown",
   "metadata": {},
   "source": [
    "2. Does each cell of the above table have single/atomic value?\n",
    "\n",
    "<details>\n",
    "\t<summary>Hint</summary>\n",
    "\n",
    "A single/atomic value cannot be divided and does not include any delimiter character.\n",
    "\n",
    "</details>\n",
    "\n",
    "<details>\n",
    "\t<summary>Answer</summary>\n",
    "\n",
    "No. The columns AUTHOR_NAME and AUTHOR_ID contain multi valued cell.\n",
    "\n",
    "</details>"
   ]
  },
  {
   "cell_type": "markdown",
   "metadata": {},
   "source": [
    "3. By definition, a table is in 1NF if every attribute in that relation contains single valued data and every tuple in that relation is unique. Does the above table fall in first normal form?\n",
    "\n",
    "<details>\n",
    "\t<summary>Hint</summary>\n",
    "\n",
    "Follow the stated definition of 1NF above. Your answer for this question should be based on the answers of the previous two questions.\n",
    "\n",
    "</details>\n",
    "\n",
    "<details>\n",
    "\t<summary>Answer</summary>\n",
    "\n",
    "No, the table is not in 1NF since it has unique rows but not all single valued cell.\n",
    "\n",
    "</details>"
   ]
  },
  {
   "cell_type": "markdown",
   "metadata": {},
   "source": [
    "4. If your answer to question 3 is No, how can you normalize the table to ensure first normal form?\n",
    "\n",
    "<details>\n",
    "\t<summary>Hint</summary>\n",
    "\n",
    "Watch the video on Normalization.\n",
    "\n",
    "</details>\n",
    "\n",
    "<details>\n",
    "\t<summary>Answer</summary>\n",
    "\n",
    "To normalize this table, add an extra row, and split the multiple author names as well as multiple author IDs of the row containing multi-valued data into their own row.\n",
    "\n",
    "</details>"
   ]
  },
  {
   "cell_type": "code",
   "execution_count": 30,
   "metadata": {},
   "outputs": [],
   "source": [
    "import sqlite3\n",
    "import pandas as pd\n",
    "\n",
    "%load_ext sql"
   ]
  },
  {
   "cell_type": "code",
   "execution_count": 20,
   "metadata": {},
   "outputs": [],
   "source": [
    "con = sqlite3.connect('data/Database.db')\n",
    "cur = con.cursor()"
   ]
  },
  {
   "cell_type": "code",
   "execution_count": 31,
   "metadata": {},
   "outputs": [],
   "source": [
    "%sql sqlite:///data/Database.db"
   ]
  },
  {
   "cell_type": "markdown",
   "metadata": {},
   "source": [
    "## Task B: Second normal form (2NF)"
   ]
  },
  {
   "cell_type": "markdown",
   "metadata": {},
   "source": [
    "1. Starting from this task of normalization, this lab requires you to have a version of **BookShop** table (shown below) different from the one shown in Exercise 1 Task A, at Db2 on cloud. Download the *BookShop-CREATE-INSERT.sql* script below, upload it to the Db2 console, and run it. The script will drop any previous BookShop table that exists, create the new BookShop table, and populate it with the sample data required for this lab.\n",
    "\n",
    "![](https://cf-courses-data.s3.us.cloud-object-storage.appdomain.cloud/IBM-DB0110EN-SkillsNetwork/labs/Lab%20-%20Normalization%20-%20Keys%20-%20Constraints%20in%20Relational%20Database/images/BookShop_table.png)\n",
    "\n",
    "- [BookShop-CREATE-INSERT.sql](https://cf-courses-data.s3.us.cloud-object-storage.appdomain.cloud/IBM-DB0110EN-SkillsNetwork/datasets/BookShop/BookShop-CREATE-INSERT.sql)\n",
    "\n",
    "<details>\n",
    "\t<summary>Click here to view the queries inside the script</summary>\n",
    "\n",
    "```sql\n",
    "-- Drop the tables in case they exist\n",
    "\n",
    "DROP TABLE BookShop;\n",
    "DROP TABLE BookShop_AuthorDetails;\n",
    "\n",
    "-- Create the table\n",
    "\n",
    "CREATE TABLE BookShop (\n",
    "    BOOK_ID VARCHAR(4) NOT NULL, \n",
    "    TITLE VARCHAR(100) NOT NULL, \n",
    "    AUTHOR_NAME VARCHAR(30) NOT NULL, \n",
    "    AUTHOR_BIO VARCHAR(250),\n",
    "    AUTHOR_ID INTEGER NOT NULL, \n",
    "    PUBLICATION_DATE DATE NOT NULL, \n",
    "    PRICE_USD DECIMAL(6,2) CHECK(Price_USD>0) NOT NULL\n",
    "    );\n",
    "\n",
    "-- Insert sample data into the table\n",
    "\n",
    "INSERT INTO BookShop VALUES\n",
    "('B101', 'Introduction to Algorithms', 'Thomas H. Cormen', 'Thomas H. Cormen is the co-author of Introduction to Algorithms, along with Charles Leiserson, Ron Rivest, and Cliff Stein. He is a Full Professor of computer science at Dartmouth College and currently Chair of the Dartmouth College Writing Program.', 123 , '2001-09-01', 125),\n",
    "('B201', 'Structure and Interpretation of Computer Programs', 'Harold Abelson', ' Harold Abelson, Ph.D., is Class of 1922 Professor of Computer Science and Engineering in the Department of Electrical Engineering and Computer Science at MIT and a fellow of the IEEE.', 456, '1996-07-25', 65.5),\n",
    "('B301', 'Deep Learning', 'Ian Goodfellow', 'Ian J. Goodfellow is a researcher working in machine learning, currently employed at Apple Inc. as its director of machine learning in the Special Projects Group. He was previously employed as a research scientist at Google Brain.', 369, '2016-11-01', 82.7),\n",
    "('B401', 'Algorithms Unlocked', 'Thomas H. Cormen', 'Thomas H. Cormen is the co-author of Introduction to Algorithms, along with Charles Leiserson, Ron Rivest, and Cliff Stein. He is a Full Professor of computer science at Dartmouth College and currently Chair of the Dartmouth College Writing Program.', 123, '2013-05-15', 36.5),\n",
    "('B501', 'Machine Learning: A Probabilistic Perspective', 'Kevin P. Murphy', '', 157, '2012-08-24', 46);\n",
    "\n",
    "-- Retrieve all records from the table\n",
    "\n",
    "SELECT * FROM BookShop;\n",
    "```\n",
    "\n",
    "</details>\n",
    "\n",
    "**Tip**: If you are unsure how to upload and run the script, review the following lab to learn how to perform the tasks:\n",
    "\n",
    "- [Hands-on Lab : Create Tables and Load Data in Db2](https://cf-courses-data.s3.us.cloud-object-storage.appdomain.cloud/IBM-DB0110EN-SkillsNetwork/labs/Lab%20-%20Create%20Tables%20and%20Load%20Data%20in%20Db2/instructional-labs.md.html)"
   ]
  },
  {
   "cell_type": "markdown",
   "metadata": {},
   "source": [
    "2. By definition, a relation is in second normal form if it is already in 1NF and does not contain any partial dependencies. If you look at the BookShop table, you will find every column in the table is single or atomic valued, but it has multiple books by the same author. This means that the AUTHOR_ID, AUTHOR_NAME and AUTHOR_BIO details for BOOK_ID B101 and B401 are the same. As the number of rows in the table increase, you will be needlessly storing more and more occurrences of these same pieces of information. And if an author updates their bio, you must update all of these occurrences.\n",
    "\n",
    "![](https://cf-courses-data.s3.us.cloud-object-storage.appdomain.cloud/IBM-DB0110EN-SkillsNetwork/labs/Lab%20-%20Normalization%20-%20Keys%20-%20Constraints%20in%20Relational%20Database/images/1.B.1.png)"
   ]
  },
  {
   "cell_type": "markdown",
   "metadata": {},
   "source": [
    "3. In this scenario, to enforce 2NF you can take the author information such as AUTHOR_ID, AUTHOR_NAME and AUTHOR_BIO out of the BookShop table into another table, for example a table named **BookShop_AuthorDetails**. You then link each book in the BookShop table to the relevant row in the **BookShop_AuthorDetails** table, using a unique common column such as AUTHOR_ID to link the tables. To create the new BookShop_AuthorDetails table, copy the code below and paste it to the textbox of the **Run SQL** page after adding a new blank script. Click **Run all**.\n",
    "\n",
    "```sql\n",
    "CREATE TABLE BookShop_AuthorDetails \n",
    "AS \n",
    "(SELECT DISTINCT AUTHOR_ID, AUTHOR_NAME, AUTHOR_BIO FROM BookShop) \n",
    "WITH DATA;\n",
    "\n",
    "SELECT * FROM BookShop_AuthorDetails;\n",
    "```\n",
    "\n",
    "![](https://cf-courses-data.s3.us.cloud-object-storage.appdomain.cloud/IBM-DB0110EN-SkillsNetwork/labs/Lab%20-%20Normalization%20-%20Keys%20-%20Constraints%20in%20Relational%20Database/images/1.B.2.png)"
   ]
  },
  {
   "cell_type": "code",
   "execution_count": 22,
   "metadata": {},
   "outputs": [
    {
     "data": {
      "text/plain": [
       "<sqlite3.Cursor at 0x19054d0cea0>"
      ]
     },
     "execution_count": 22,
     "metadata": {},
     "output_type": "execute_result"
    }
   ],
   "source": [
    "query = '''\n",
    "            CREATE TABLE BookShop_AuthorDetails AS \n",
    "            SELECT DISTINCT AUTHOR_ID, AUTHOR_NAME, AUTHOR_BIO \n",
    "            FROM BookShop \n",
    "        '''\n",
    "cur.execute(query)"
   ]
  },
  {
   "cell_type": "code",
   "execution_count": 23,
   "metadata": {},
   "outputs": [
    {
     "data": {
      "text/html": [
       "<div>\n",
       "<style scoped>\n",
       "    .dataframe tbody tr th:only-of-type {\n",
       "        vertical-align: middle;\n",
       "    }\n",
       "\n",
       "    .dataframe tbody tr th {\n",
       "        vertical-align: top;\n",
       "    }\n",
       "\n",
       "    .dataframe thead th {\n",
       "        text-align: right;\n",
       "    }\n",
       "</style>\n",
       "<table border=\"1\" class=\"dataframe\">\n",
       "  <thead>\n",
       "    <tr style=\"text-align: right;\">\n",
       "      <th></th>\n",
       "      <th>AUTHOR_ID</th>\n",
       "      <th>AUTHOR_NAME</th>\n",
       "      <th>AUTHOR_BIO</th>\n",
       "    </tr>\n",
       "  </thead>\n",
       "  <tbody>\n",
       "    <tr>\n",
       "      <th>0</th>\n",
       "      <td>123</td>\n",
       "      <td>Thomas H. Cormen</td>\n",
       "      <td>Thomas H. Cormen is the co-author of Introduct...</td>\n",
       "    </tr>\n",
       "    <tr>\n",
       "      <th>1</th>\n",
       "      <td>456</td>\n",
       "      <td>Harold Abelson</td>\n",
       "      <td>Harold Abelson, Ph.D., is Class of 1922 Profes...</td>\n",
       "    </tr>\n",
       "    <tr>\n",
       "      <th>2</th>\n",
       "      <td>369</td>\n",
       "      <td>Ian Goodfellow</td>\n",
       "      <td>Ian J. Goodfellow is a researcher working in m...</td>\n",
       "    </tr>\n",
       "    <tr>\n",
       "      <th>3</th>\n",
       "      <td>157</td>\n",
       "      <td>Kevin P. Murphy</td>\n",
       "      <td></td>\n",
       "    </tr>\n",
       "  </tbody>\n",
       "</table>\n",
       "</div>"
      ],
      "text/plain": [
       "   AUTHOR_ID       AUTHOR_NAME  \\\n",
       "0        123  Thomas H. Cormen   \n",
       "1        456    Harold Abelson   \n",
       "2        369    Ian Goodfellow   \n",
       "3        157   Kevin P. Murphy   \n",
       "\n",
       "                                          AUTHOR_BIO  \n",
       "0  Thomas H. Cormen is the co-author of Introduct...  \n",
       "1  Harold Abelson, Ph.D., is Class of 1922 Profes...  \n",
       "2  Ian J. Goodfellow is a researcher working in m...  \n",
       "3                                                     "
      ]
     },
     "execution_count": 23,
     "metadata": {},
     "output_type": "execute_result"
    }
   ],
   "source": [
    "query = '''\n",
    "\t\t\tSELECT *\n",
    "\t\t\tFROM BookShop_AuthorDetails\n",
    "        '''\n",
    "\n",
    "df = pd.read_sql_query(query, con)\n",
    "df"
   ]
  },
  {
   "cell_type": "markdown",
   "metadata": {},
   "source": [
    "4. Now you can drop the redundant author information related columns from the BookShop table. Do not drop the AUTHOR_ID column though, because that will be used to maintain the relationship between the two tables. To drop the redundant author information related columns from the BookShop table, copy the code below and paste it to the current script textbox of the **Run SQL** page replacing the existing code with this new code. Click **Run all**.\n",
    "\n",
    "```sql\n",
    "ALTER TABLE BookShop\n",
    "DROP COLUMN AUTHOR_NAME\n",
    "DROP COLUMN AUTHOR_BIO;\n",
    "\n",
    "SELECT * FROM BookShop;\n",
    "```\n",
    "\n",
    "![](https://cf-courses-data.s3.us.cloud-object-storage.appdomain.cloud/IBM-DB0110EN-SkillsNetwork/labs/Lab%20-%20Normalization%20-%20Keys%20-%20Constraints%20in%20Relational%20Database/images/1.B.3.png)"
   ]
  },
  {
   "cell_type": "code",
   "execution_count": 36,
   "metadata": {},
   "outputs": [],
   "source": [
    "# query = '''\n",
    "#             ALTER TABLE BookShop\n",
    "#             DROP COLUMN AUTHOR_NAME\n",
    "#             DROP COLUMN AUTHOR_BIO;\n",
    "#         '''\n",
    "# cur.execute(query)"
   ]
  },
  {
   "cell_type": "code",
   "execution_count": 37,
   "metadata": {},
   "outputs": [
    {
     "name": "stdout",
     "output_type": "stream",
     "text": [
      " * sqlite:///data/Database.db\n",
      "Done.\n",
      "Done.\n",
      "Done.\n"
     ]
    },
    {
     "data": {
      "text/plain": [
       "[]"
      ]
     },
     "execution_count": 37,
     "metadata": {},
     "output_type": "execute_result"
    }
   ],
   "source": [
    "%%sql\n",
    "\n",
    "CREATE TABLE BookShop_backup AS \n",
    "SELECT BOOK_ID, TITLE, AUTHOR_ID, PUBLICATION_DATE, PRICE_USD\n",
    "FROM BookShop;\n",
    "\n",
    "DROP TABLE BookShop;\n",
    "\n",
    "ALTER TABLE BookShop_backup \n",
    "RENAME TO BookShop;"
   ]
  },
  {
   "cell_type": "code",
   "execution_count": 38,
   "metadata": {},
   "outputs": [
    {
     "data": {
      "text/html": [
       "<div>\n",
       "<style scoped>\n",
       "    .dataframe tbody tr th:only-of-type {\n",
       "        vertical-align: middle;\n",
       "    }\n",
       "\n",
       "    .dataframe tbody tr th {\n",
       "        vertical-align: top;\n",
       "    }\n",
       "\n",
       "    .dataframe thead th {\n",
       "        text-align: right;\n",
       "    }\n",
       "</style>\n",
       "<table border=\"1\" class=\"dataframe\">\n",
       "  <thead>\n",
       "    <tr style=\"text-align: right;\">\n",
       "      <th></th>\n",
       "      <th>BOOK_ID</th>\n",
       "      <th>TITLE</th>\n",
       "      <th>AUTHOR_ID</th>\n",
       "      <th>PUBLICATION_DATE</th>\n",
       "      <th>PRICE_USD</th>\n",
       "    </tr>\n",
       "  </thead>\n",
       "  <tbody>\n",
       "    <tr>\n",
       "      <th>0</th>\n",
       "      <td>B101</td>\n",
       "      <td>Introduction to Algorithms</td>\n",
       "      <td>123</td>\n",
       "      <td>2001-09-01</td>\n",
       "      <td>125.0</td>\n",
       "    </tr>\n",
       "    <tr>\n",
       "      <th>1</th>\n",
       "      <td>B201</td>\n",
       "      <td>Structure and Interpretation of Computer Programs</td>\n",
       "      <td>456</td>\n",
       "      <td>1996-07-25</td>\n",
       "      <td>65.5</td>\n",
       "    </tr>\n",
       "    <tr>\n",
       "      <th>2</th>\n",
       "      <td>B301</td>\n",
       "      <td>Deep Learning</td>\n",
       "      <td>369</td>\n",
       "      <td>2016-11-01</td>\n",
       "      <td>82.7</td>\n",
       "    </tr>\n",
       "    <tr>\n",
       "      <th>3</th>\n",
       "      <td>B401</td>\n",
       "      <td>Algorithms Unlocked</td>\n",
       "      <td>123</td>\n",
       "      <td>2013-05-15</td>\n",
       "      <td>36.5</td>\n",
       "    </tr>\n",
       "    <tr>\n",
       "      <th>4</th>\n",
       "      <td>B501</td>\n",
       "      <td>Machine Learning: A Probabilistic Perspective</td>\n",
       "      <td>157</td>\n",
       "      <td>2012-08-24</td>\n",
       "      <td>46.0</td>\n",
       "    </tr>\n",
       "  </tbody>\n",
       "</table>\n",
       "</div>"
      ],
      "text/plain": [
       "  BOOK_ID                                              TITLE  AUTHOR_ID  \\\n",
       "0    B101                         Introduction to Algorithms        123   \n",
       "1    B201  Structure and Interpretation of Computer Programs        456   \n",
       "2    B301                                      Deep Learning        369   \n",
       "3    B401                                Algorithms Unlocked        123   \n",
       "4    B501      Machine Learning: A Probabilistic Perspective        157   \n",
       "\n",
       "  PUBLICATION_DATE  PRICE_USD  \n",
       "0       2001-09-01      125.0  \n",
       "1       1996-07-25       65.5  \n",
       "2       2016-11-01       82.7  \n",
       "3       2013-05-15       36.5  \n",
       "4       2012-08-24       46.0  "
      ]
     },
     "execution_count": 38,
     "metadata": {},
     "output_type": "execute_result"
    }
   ],
   "source": [
    "query = '''\n",
    "\t\t\tSELECT *\n",
    "\t\t\tFROM BookShop\n",
    "        '''\n",
    "\n",
    "df = pd.read_sql_query(query, con)\n",
    "df"
   ]
  },
  {
   "cell_type": "markdown",
   "metadata": {},
   "source": [
    "5. Now you are only storing the author information once per author and only have to update it in one place; reducing redundancy and increasing consistency of data. Thus 2NF is ensured.\n",
    "\n",
    "![](https://cf-courses-data.s3.us.cloud-object-storage.appdomain.cloud/IBM-DB0110EN-SkillsNetwork/labs/Lab%20-%20Normalization%20-%20Keys%20-%20Constraints%20in%20Relational%20Database/images/1.B.4.png)"
   ]
  },
  {
   "cell_type": "markdown",
   "metadata": {},
   "source": [
    "# Exercise 2: Keys"
   ]
  },
  {
   "cell_type": "markdown",
   "metadata": {},
   "source": [
    "In this exercise, you will see how to use a primary key to uniquely identify a record in a table, how to use a foreign key to establish a relationship between tables, and how to identify the relation between them."
   ]
  },
  {
   "cell_type": "markdown",
   "metadata": {},
   "source": [
    "## Task A: Primary Key"
   ]
  },
  {
   "cell_type": "markdown",
   "metadata": {},
   "source": [
    "1. By definition, a primary key is a column or group of columns that uniquely identify every row in a table. A table cannot have more than one primary key. The rules for defining a primary key are:\n",
    "\n",
    "- No two rows can have a duplicate primary key value.\n",
    "- Every row must have a primary key value.\n",
    "- No primary key field can be null."
   ]
  },
  {
   "cell_type": "markdown",
   "metadata": {},
   "source": [
    "2. You will create a primary key for the BookShop and BookShop_AuthorDetails tables to uniquely identify every row in each of the tables. You will set the BOOK_ID column of the BookShop table and AUTHOR_ID column of the BookShop_AuthorDetails table as a primary key for each of the tables. Both of the columns were declared as NOT NULL when the tables were created (Check the the sql script or table definition of the tables to verify the NOT NULL constraint. Because the BookShop_AuthorDetails table was created from the BookShop table, it inherits all the data types and column constraints like NOT NULL from the BookShop parent table).\n",
    "\n",
    "![](https://cf-courses-data.s3.us.cloud-object-storage.appdomain.cloud/IBM-DB0110EN-SkillsNetwork/labs/Lab%20-%20Normalization%20-%20Keys%20-%20Constraints%20in%20Relational%20Database/images/2.A.2.png)"
   ]
  },
  {
   "cell_type": "markdown",
   "metadata": {},
   "source": [
    "3. The ALTER TABLE statement you ran in the previous task puts the table into what's called a 'reorg pending' state. This occurs after any ALTER TABLE statement that contains a REORG-recommended operation is run. Therefore to put the table back into an 'organized' state, you need to call a sysproc admin command that reorganizes the table before you can continue. Copy the code below and paste it to the current script textbox of the **RUN SQL** page replacing the existing code with this new code. Then click **Run all**.\n",
    "\n",
    "```sql\n",
    "Call Sysproc.admin_cmd ('reorg Table BookShop');\n",
    "```"
   ]
  },
  {
   "cell_type": "markdown",
   "metadata": {},
   "source": [
    "4. To set the BOOK_ID column of the BookShop table and AUTHOR_ID column of the BookShop_AuthorDetails table as a primary key for each of the tables, copy the code below and paste it to the current script textbox of the **RUN SQL** page replacing the existing code with this new code. Click **Run all**.\n",
    "\n",
    "```sql\n",
    "ALTER TABLE BookShop\n",
    "ADD PRIMARY KEY (BOOK_ID);\n",
    "\n",
    "ALTER TABLE BookShop_AuthorDetails\n",
    "ADD PRIMARY KEY (AUTHOR_ID);\n",
    "```\n",
    "\n",
    "![](https://cf-courses-data.s3.us.cloud-object-storage.appdomain.cloud/IBM-DB0110EN-SkillsNetwork/labs/Lab%20-%20Normalization%20-%20Keys%20-%20Constraints%20in%20Relational%20Database/images/2.A.3.png)"
   ]
  },
  {
   "cell_type": "code",
   "execution_count": 42,
   "metadata": {},
   "outputs": [],
   "source": [
    "# query = '''\n",
    "#             ALTER TABLE BookShop\n",
    "#             ADD PRIMARY KEY (BOOK_ID)\n",
    "#         '''\n",
    "# cur.execute(query)"
   ]
  },
  {
   "cell_type": "code",
   "execution_count": 43,
   "metadata": {},
   "outputs": [],
   "source": [
    "# query = '''\n",
    "#             ALTER TABLE BookShop_AuthorDetails\n",
    "#             ADD PRIMARY KEY (AUTHOR_ID);\n",
    "#         '''\n",
    "# cur.execute(query)"
   ]
  },
  {
   "cell_type": "markdown",
   "metadata": {},
   "source": [
    "5. Now you can use the BOOK_ID column to uniquely identify every row in the BookShop table and the AUTHOR_ID column to uniquely identify every row in the BookShop_AuthorDetails table."
   ]
  },
  {
   "cell_type": "markdown",
   "metadata": {},
   "source": [
    "## Task B: Foreign Key"
   ]
  },
  {
   "cell_type": "markdown",
   "metadata": {},
   "source": [
    "1. By definition, a foreign key is a column that establishes a relationship between two tables. It acts as a cross-reference between two tables because it points to the primary key of another table. A table can have multiple foreign keys referencing primary keys of other tables. Rules for defining a foreign key:\n",
    "\n",
    "- A foreign key in the referencing table must match the structure and data type of the existing primary key in the referenced table.\n",
    "- A foreign key can only have values present in the referenced primary key\n",
    "- Foreign keys do not need to be unique. Most often they aren't.\n",
    "- Foreign keys can be null."
   ]
  },
  {
   "cell_type": "markdown",
   "metadata": {},
   "source": [
    "2. You will create a foreign key for the BookShop table by setting its AUTHOR_ID column as a foreign key, to establish a relationship between the BookShop and BookShop_AuthorDetails tables. Copy the code below and paste it to the current script textbox of the **RUN SQL** page replacing the existing code with this new code. Click **Run all**.\n",
    "\n",
    "```sql\n",
    "ALTER TABLE BookShop\n",
    "ADD CONSTRAINT fk_BookShop FOREIGN KEY (AUTHOR_ID)\n",
    "    REFERENCES BookShop_AuthorDetails(AUTHOR_ID)\n",
    "    ON UPDATE NO ACTION\n",
    "    ON DELETE NO ACTION;\n",
    "```\n",
    "\n",
    "**Note**: ON UPDATE NO ACTION means if any existing row is updated in the foreign key column of the referencing table (the table containing the foreign key), the update will only be allowed if the new value of the foreign key column exists in the referenced primary key column of the referenced table (the table containing the primary key). However, any update on a row of the referenced primary key column of the referenced table is always rejected if there is the existence of a corresponding row in the referencing foreign key column of the referencing table.\n",
    "\n",
    "ON DELETE NO ACTION means if any row in the referenced table (the table containing the primary key) is deleted, that row in the referenced table and the corresponding row in the referencing table (the table containing the foreign key) are not deleted.\n",
    "\n",
    "![](https://cf-courses-data.s3.us.cloud-object-storage.appdomain.cloud/IBM-DB0110EN-SkillsNetwork/labs/Lab%20-%20Normalization%20-%20Keys%20-%20Constraints%20in%20Relational%20Database/images/2.B.2.png)"
   ]
  },
  {
   "cell_type": "markdown",
   "metadata": {},
   "source": [
    "3. Now that you have created the relationship, each book in the BookShop table is linked to the relevant row in the BookShop_AuthorDetails table through AUTHOR_ID."
   ]
  },
  {
   "cell_type": "markdown",
   "metadata": {},
   "source": [
    "# Exercise 3: Constraints"
   ]
  },
  {
   "cell_type": "markdown",
   "metadata": {},
   "source": [
    "In this exercise, you will review different kinds of relational model constraints that help to maintain data integrity in a relational data model.\n",
    "\n",
    "1. **Entity Integrity Constraint**: Entity integrity ensures that no duplicate records exist within a table and that the column identifing each record within the table is not a duplicate and not null. The existence of a primary key in both the BookShop and BookShop_AuthorDetails tables satisfies this integrity constraint because a primary key mandates NOT NULL constraint as well as ensuring that every row in the table has a value that uniquely denotes the row.\n",
    "\n",
    "2. **Referential Integrity Constraint**: Referential integrity ensures the existence of a referenced value if a value of one column of a table references a value of another column. The existence of the foreign Key (AUTHOR_ID) in the BookShop table satisfies this integrity constraint because a cross-reference relationship between the BookShop and BookShop_AuthorDetails tables exists. As a result of this relationship, each book in the BookShop table will be linked to the relevant row in the BookShop_AuthorDetails table through the AUTHOR_ID columns.\n",
    "\n",
    "3. **Domain Integrity Constraint**: Domain integrity ensures that the purpose of a column is clear and the values of a column are consistent as well as valid. The existence of data types, length, date format, check, and null constraints in the CREATE statement of the BookShop table makes sure this integrity constraint is satisfied.\n",
    "\n",
    "![](https://cf-courses-data.s3.us.cloud-object-storage.appdomain.cloud/IBM-DB0110EN-SkillsNetwork/labs/Lab%20-%20Normalization%20-%20Keys%20-%20Constraints%20in%20Relational%20Database/images/3.3.png)"
   ]
  },
  {
   "cell_type": "markdown",
   "metadata": {},
   "source": [
    "### Congratulations! You have completed this lab, and you are ready for the next topic."
   ]
  },
  {
   "cell_type": "code",
   "execution_count": 44,
   "metadata": {},
   "outputs": [],
   "source": [
    "con.close()"
   ]
  },
  {
   "cell_type": "markdown",
   "metadata": {},
   "source": [
    "## Author(s)"
   ]
  },
  {
   "cell_type": "markdown",
   "metadata": {},
   "source": [
    "- [Sandip Saha Joy](https://www.linkedin.com/in/sandipsahajoy/?utm_medium=Exinfluencer&utm_source=Exinfluencer&utm_content=000026UJ&utm_term=10006555&utm_id=NA-SkillsNetwork-Channel-SkillsNetworkCoursesIBMDB0110ENSkillsNetwork24601058-2022-01-01)"
   ]
  },
  {
   "cell_type": "markdown",
   "metadata": {},
   "source": [
    "## Other Contributor(s)"
   ]
  },
  {
   "cell_type": "markdown",
   "metadata": {},
   "source": [
    "- "
   ]
  },
  {
   "cell_type": "markdown",
   "metadata": {},
   "source": [
    "## Changelog\n",
    "\n",
    "| Date              | Version | Changed By          | Change Description                    |\n",
    "| ----------------- | ------- | ------------------- | ------------------------------------- |\n",
    "| 2021-04-06        | 1.0     | Sandip Saha Joy     | Created initial version               |\n",
    "\n",
    "## <h3 align=\"center\"> © IBM Corporation 2021. All rights reserved. <h3/>"
   ]
  }
 ],
 "metadata": {
  "kernelspec": {
   "display_name": "Python 3.9.13 ('base')",
   "language": "python",
   "name": "python3"
  },
  "language_info": {
   "codemirror_mode": {
    "name": "ipython",
    "version": 3
   },
   "file_extension": ".py",
   "mimetype": "text/x-python",
   "name": "python",
   "nbconvert_exporter": "python",
   "pygments_lexer": "ipython3",
   "version": "3.9.13"
  },
  "orig_nbformat": 4,
  "vscode": {
   "interpreter": {
    "hash": "3cfd106f785ae1e288da74ae733f9b47f8a2699db986927140be0bc196406f4c"
   }
  }
 },
 "nbformat": 4,
 "nbformat_minor": 2
}
